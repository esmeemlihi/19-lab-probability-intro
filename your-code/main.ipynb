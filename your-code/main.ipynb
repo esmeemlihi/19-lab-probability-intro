{
 "cells": [
  {
   "cell_type": "markdown",
   "metadata": {},
   "source": [
    "# Introduction To Probability\n",
    "## Challenge 1\n",
    "\n",
    "A and B are events of a probability space with $(\\omega, \\sigma, P)$ such that $P(A) = 0.3$, $P(B) = 0.6$ and $P(A \\cap B) = 0.1$\n",
    "\n",
    "Which of the following statements are false?\n",
    "* $P(A \\cup B) = 0.6$\n",
    "* $P(A \\cap B^{C}) = 0.2$\n",
    "* $P(A \\cap (B \\cup B^{C})) = 0.4$\n",
    "* $P(A^{C} \\cap B^{C}) = 0.3$\n",
    "* $P((A \\cap B)^{C}) = 0.9$"
   ]
  },
  {
   "cell_type": "code",
   "execution_count": 1,
   "metadata": {},
   "outputs": [
    {
     "data": {
      "text/plain": [
       "True"
      ]
     },
     "execution_count": 1,
     "metadata": {},
     "output_type": "execute_result"
    }
   ],
   "source": [
    "\"\"\"\n",
    "Given: \n",
    "\n",
    "P(A)=0.3 \n",
    "P(B)=0.6\n",
    "P(A∩B)=0.1\n",
    "\n",
    "\n",
    "'''\n",
    "L.S. Correct!\n",
    "'''\n",
    "\n",
    "\n",
    "\"\"\"\n",
    "# Source: https://www.math.arizona.edu/~jwatkins/a-basics.pdf\n",
    "\n",
    "# The change having A or B = 0.3 + 0.6 --> 0.9 \n",
    "# So the first statements is: \n",
    "False\n",
    "\n",
    "# The chance having A but not B \n",
    "# in other words the change of P(A) - P(A∩B)\n",
    "# 0.3 - 01 = 0.2\n",
    "True  \n",
    "\n",
    "# The chance having B and not having B = impossible = 0 \n",
    "# So the intersection of P(A∩P(zero)) = 0 \n",
    "False \n",
    "\n",
    "# The chance havig the intersection of not A and no B \n",
    "# Is the same of vereything but A and B \n",
    "# So it should be outside A and outside B and overlapping \n",
    "# this means the chance is 0.1 \n",
    "False \n",
    "\n",
    "# Not in the intersection of A and B \n",
    "# 1 - 0.1 = 0.9 \n",
    "True \n",
    "\n",
    "\n"
   ]
  },
  {
   "cell_type": "markdown",
   "metadata": {},
   "source": [
    "## Challenge 2\n",
    "There is a box with 10 white balls, 12 red balls and 8 black balls. Calculate the probability of:\n",
    "* Taking a white ball out.\n",
    "* Taking a white ball out after taking a black ball out.\n",
    "* Taking a red ball out after taking a black and a red ball out.\n",
    "* Taking a red ball out after taking a black and a red ball out with reposition.\n",
    "\n",
    "**Hint**: Reposition means putting back the ball into the box after taking it out."
   ]
  },
  {
   "cell_type": "code",
   "execution_count": 2,
   "metadata": {},
   "outputs": [
    {
     "name": "stdout",
     "output_type": "stream",
     "text": [
      "The chance of having a white bal is: \n",
      " 0.3333333333333333 \n",
      "\n",
      "Taking a white ball out after taking a black ball out: \n",
      " 0.09195402298850575 \n",
      "\n",
      "Taking a red ball out after taking a black and a red ball out: \n",
      " 0.09458128078817733 \n",
      "\n",
      "Taking a red ball out after taking a black and a red ball out with reposition: \n",
      " 0.08533333333333334 \n",
      "\n"
     ]
    }
   ],
   "source": [
    "\n",
    "'''\n",
    "L.S. Correct, print statements are a bit messy though!\n",
    "'''\n",
    "\n",
    "white  = 10 \n",
    "red = 12\n",
    "black = 8 \n",
    "total = white +  red + black\n",
    "\n",
    "print(\"The chance of having a white bal is: \\n\",  \n",
    "      white/ total, \"\\n\")\n",
    "\n",
    "print(\"Taking a white ball out after taking a black ball out: \\n\",   \n",
    "      (black/ total)*(white/ (total-1)), \"\\n\")\n",
    "\n",
    "print(\"Taking a red ball out after taking a black and a red ball out: \\n\",   \n",
    "          (\n",
    "              (\n",
    "                  ((black/ total)*(red/(total-1)))\n",
    "                + ((red/ total)*(black/(total-1)))\n",
    "              )\n",
    "          *(red/ (total-2))\n",
    "          ), \"\\n\"\n",
    "     )\n",
    "                                                                             \n",
    "print(\"Taking a red ball out after taking a black and a red ball out with reposition: \\n\",   \n",
    "          (\n",
    "              (\n",
    "                  ((black/ total)*(red/(total)))\n",
    "                + ((red/ total)*(black/(total)))\n",
    "              )\n",
    "          *(red/ (total))\n",
    "          ), \"\\n\"\n",
    "     )                                                                 \n",
    "                                                                             \n",
    "                                                                             "
   ]
  },
  {
   "cell_type": "markdown",
   "metadata": {},
   "source": [
    "## Challenge 3\n",
    "\n",
    "You are planning to go on a picnic today but the morning is cloudy. You hate rain so you don't know whether to go out or stay home! To help you make a decision, you gather the following data about rainy days:\n",
    "\n",
    "* 50% of all rainy days start off cloudy!\n",
    "* Cloudy mornings are common. About 40% of days start cloudy. \n",
    "* This month is usually dry so only 3 of 30 days (10%) tend to be rainy. \n",
    "\n",
    "What is the chance of rain during the day?"
   ]
  },
  {
   "cell_type": "code",
   "execution_count": 2,
   "metadata": {},
   "outputs": [
    {
     "name": "stdout",
     "output_type": "stream",
     "text": [
      "the chance that it will rain is:  0.5\n"
     ]
    },
    {
     "data": {
      "text/plain": [
       "'\\nRainy day excersice solution on morning recap day 25 Friday: \\n\\nP(A|B) = (P(A) * P(B|A))/P(B)\\n\\n'"
      ]
     },
     "execution_count": 2,
     "metadata": {},
     "output_type": "execute_result"
    }
   ],
   "source": [
    "\n",
    "'''\n",
    "L.S. Answer is incorrect, but you wrote that you had to use Bayes Theorem, which is good for now!\n",
    "'''\n",
    "\n",
    "Cloudy_start_means_rain = 0.5 \n",
    "\"\"\"This is just the opposote: Rain means that 50% change that de day sterted cloudy \"\"\"\n",
    "\n",
    "Chanche_of_cloudy_start = 0.4 \n",
    "Monthly_rain_chance = 0.1 \n",
    "\n",
    "print(\"the chance that it will rain is: \", Cloudy_start_means_rain)\n",
    "      \n",
    "\"\"\"\n",
    "Rainy day excersice solution on morning recap day 25 Friday: \n",
    "\n",
    "P(A|B) = (P(A) * P(B|A))/P(B) --> bassed on the a. k. a. Bayes Theerem\n",
    "\n",
    "\"\"\"\n"
   ]
  },
  {
   "cell_type": "markdown",
   "metadata": {},
   "source": [
    "## Challenge 4\n",
    "\n",
    "One thousand people were asked through a telephone survey whether they thought more street lighting is needed at night or not.\n",
    "\n",
    "Out of the 480 men that answered the survey, 324 said yes and 156 said no. On the other hand, out of the 520 women that answered, 351 said yes and 169 said no. \n",
    "\n",
    "We wonder if men and women have a different opinions about the street lighting matter. Is gender relevant or irrelevant to the question?\n",
    "\n",
    "Consider the following events:\n",
    "- The answer is yes, so the person that answered thinks that more street lighting is needed.\n",
    "- The person who answered is a man.\n",
    "\n",
    "We want to know if these events are independent, that is, if the fact of wanting more light depends on whether one is male or female. Are these events independent or not?\n",
    "\n",
    "**Hint**: To clearly compare the answers by gender, it is best to place the data in a table."
   ]
  },
  {
   "cell_type": "code",
   "execution_count": 9,
   "metadata": {},
   "outputs": [
    {
     "name": "stdout",
     "output_type": "stream",
     "text": [
      "P(B):  0.48 and P(A|B):  0.711111111111111 the fact thas these are the same is:  False\n"
     ]
    }
   ],
   "source": [
    "total_men = 480 \n",
    "yes_men = 324\n",
    "no_men = 156 \n",
    "\n",
    "total_women = 520 \n",
    "yes_women = 351\n",
    "no_women = 169 \n",
    "\n",
    "total = total_men + total_women\n",
    "total_yes = yes_men+ yes_women\n",
    "total_no = total - total_yes\n",
    "\n",
    "# When its indipended the fallowing counts: \n",
    "# P(A intersection B) = P(A)*P(B)\n",
    "\n",
    "P_A_yes = total_yes/ total\n",
    "P_B_men = total_men / total\n",
    "\n",
    "# P(A|B) = P(A) --> the chance of A given B is the case \n",
    "# P(B|A) = P(B) --> the chance of A given B is the case \n",
    "\n",
    "P_A = total_yes / total\n",
    "P_B = total_men / total\n",
    "\n",
    "P_A_given_B = P_A/P_B\n",
    "P_B_given_A = P_B/P_A\n",
    "\n",
    "# ????? why the change is more then 1 there is a mistake \n",
    "#print(\"P(A): \", P_A, \"and P(A|B): \", P_A_given_B, \"the fact thas these are the same is: \", P_A ==P_A_given_B)\n",
    "print(\"P(B): \", P_B, \"and P(A|B): \", P_B_given_A, \"the fact thas these are the same is: \", P_B ==P_B_given_A)\n",
    "\n"
   ]
  },
  {
   "cell_type": "code",
   "execution_count": null,
   "metadata": {},
   "outputs": [],
   "source": []
  }
 ],
 "metadata": {
  "kernelspec": {
   "display_name": "Python 3",
   "language": "python",
   "name": "python3"
  },
  "language_info": {
   "codemirror_mode": {
    "name": "ipython",
    "version": 3
   },
   "file_extension": ".py",
   "mimetype": "text/x-python",
   "name": "python",
   "nbconvert_exporter": "python",
   "pygments_lexer": "ipython3",
   "version": "3.6.4"
  }
 },
 "nbformat": 4,
 "nbformat_minor": 2
}
